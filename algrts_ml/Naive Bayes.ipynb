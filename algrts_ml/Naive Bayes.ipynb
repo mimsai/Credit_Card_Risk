{
 "cells": [
  {
   "cell_type": "code",
   "execution_count": 1,
   "id": "eff75e4b",
   "metadata": {},
   "outputs": [],
   "source": [
    "import pickle\n",
    "\n",
    "from sklearn.naive_bayes import GaussianNB\n",
    "from sklearn.metrics     import accuracy_score, confusion_matrix, classification_report"
   ]
  },
  {
   "cell_type": "code",
   "execution_count": 2,
   "id": "ad06822c",
   "metadata": {},
   "outputs": [],
   "source": [
    "with open('credit.pkl', 'rb') as f:\n",
    "    X_cred_train, y_cred_train, X_cred_test, y_cred_teste = pickle.load(f)"
   ]
  },
  {
   "cell_type": "code",
   "execution_count": 3,
   "id": "2c909910",
   "metadata": {},
   "outputs": [],
   "source": [
    "naive_credit_data = GaussianNB()"
   ]
  },
  {
   "cell_type": "code",
   "execution_count": 4,
   "id": "3f91b59e",
   "metadata": {},
   "outputs": [
    {
     "data": {
      "text/plain": [
       "GaussianNB()"
      ]
     },
     "execution_count": 4,
     "metadata": {},
     "output_type": "execute_result"
    }
   ],
   "source": [
    "naive_credit_data.fit(X_cred_train,y_cred_train)"
   ]
  },
  {
   "cell_type": "code",
   "execution_count": 5,
   "id": "77a1c076",
   "metadata": {},
   "outputs": [],
   "source": [
    "prev = naive_credit_data.predict(X_cred_test)"
   ]
  },
  {
   "cell_type": "code",
   "execution_count": 6,
   "id": "4356b68c",
   "metadata": {},
   "outputs": [
    {
     "data": {
      "text/plain": [
       "0.8092064667407133"
      ]
     },
     "execution_count": 6,
     "metadata": {},
     "output_type": "execute_result"
    }
   ],
   "source": [
    "accuracy_score(y_cred_teste, prev)"
   ]
  },
  {
   "cell_type": "code",
   "execution_count": 7,
   "id": "d1d8c864",
   "metadata": {},
   "outputs": [
    {
     "data": {
      "text/plain": [
       "array([[5413,  918],\n",
       "       [ 628, 1144]], dtype=int64)"
      ]
     },
     "execution_count": 7,
     "metadata": {},
     "output_type": "execute_result"
    }
   ],
   "source": [
    "confusion_matrix(y_cred_teste, prev)"
   ]
  },
  {
   "cell_type": "code",
   "execution_count": 8,
   "id": "553ad522",
   "metadata": {},
   "outputs": [
    {
     "name": "stdout",
     "output_type": "stream",
     "text": [
      "              precision    recall  f1-score   support\n",
      "\n",
      "           0       0.90      0.85      0.88      6331\n",
      "           1       0.55      0.65      0.60      1772\n",
      "\n",
      "    accuracy                           0.81      8103\n",
      "   macro avg       0.73      0.75      0.74      8103\n",
      "weighted avg       0.82      0.81      0.81      8103\n",
      "\n"
     ]
    }
   ],
   "source": [
    "print(classification_report(y_cred_teste, prev))"
   ]
  }
 ],
 "metadata": {
  "kernelspec": {
   "display_name": "Python 3 (ipykernel)",
   "language": "python",
   "name": "python3"
  },
  "language_info": {
   "codemirror_mode": {
    "name": "ipython",
    "version": 3
   },
   "file_extension": ".py",
   "mimetype": "text/x-python",
   "name": "python",
   "nbconvert_exporter": "python",
   "pygments_lexer": "ipython3",
   "version": "3.9.7"
  }
 },
 "nbformat": 4,
 "nbformat_minor": 5
}
