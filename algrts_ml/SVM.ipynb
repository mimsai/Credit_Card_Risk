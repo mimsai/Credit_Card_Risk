{
 "cells": [
  {
   "cell_type": "code",
   "execution_count": 1,
   "id": "db3069cf",
   "metadata": {},
   "outputs": [],
   "source": [
    "import pickle\n",
    "from sklearn.svm     import SVC\n",
    "from sklearn.metrics import accuracy_score, classification_report, confusion_matrix\n",
    "\n",
    "with open('credit.pkl', 'rb') as f:\n",
    "    X_cred_train, y_cred_train, X_cred_test, y_cred_teste = pickle.load(f)"
   ]
  },
  {
   "cell_type": "code",
   "execution_count": 2,
   "id": "9c034c63",
   "metadata": {},
   "outputs": [
    {
     "data": {
      "text/plain": [
       "SVC(C=2.0, random_state=1)"
      ]
     },
     "execution_count": 2,
     "metadata": {},
     "output_type": "execute_result"
    }
   ],
   "source": [
    "svm_credit = SVC(kernel='rbf', random_state=1, C = 2.0)\n",
    "svm_credit.fit(X_cred_train, y_cred_train)"
   ]
  },
  {
   "cell_type": "code",
   "execution_count": 3,
   "id": "a6920d5c",
   "metadata": {},
   "outputs": [],
   "source": [
    "prev = svm_credit.predict(X_cred_test)"
   ]
  },
  {
   "cell_type": "code",
   "execution_count": 4,
   "id": "61b07425",
   "metadata": {},
   "outputs": [
    {
     "data": {
      "text/plain": [
       "0.8918918918918919"
      ]
     },
     "execution_count": 4,
     "metadata": {},
     "output_type": "execute_result"
    }
   ],
   "source": [
    "accuracy_score(y_cred_teste, prev)"
   ]
  },
  {
   "cell_type": "code",
   "execution_count": 5,
   "id": "1dc715bc",
   "metadata": {},
   "outputs": [
    {
     "name": "stdout",
     "output_type": "stream",
     "text": [
      "              precision    recall  f1-score   support\n",
      "\n",
      "           0       0.90      0.98      0.93      6331\n",
      "           1       0.87      0.59      0.71      1772\n",
      "\n",
      "    accuracy                           0.89      8103\n",
      "   macro avg       0.88      0.78      0.82      8103\n",
      "weighted avg       0.89      0.89      0.88      8103\n",
      "\n"
     ]
    }
   ],
   "source": [
    "print(classification_report(y_cred_teste, prev))"
   ]
  },
  {
   "cell_type": "code",
   "execution_count": 6,
   "id": "80a6a8d5",
   "metadata": {},
   "outputs": [
    {
     "data": {
      "text/plain": [
       "array([[6174,  157],\n",
       "       [ 719, 1053]], dtype=int64)"
      ]
     },
     "execution_count": 6,
     "metadata": {},
     "output_type": "execute_result"
    }
   ],
   "source": [
    "confusion_matrix(y_cred_teste, prev)"
   ]
  }
 ],
 "metadata": {
  "kernelspec": {
   "display_name": "Python 3 (ipykernel)",
   "language": "python",
   "name": "python3"
  },
  "language_info": {
   "codemirror_mode": {
    "name": "ipython",
    "version": 3
   },
   "file_extension": ".py",
   "mimetype": "text/x-python",
   "name": "python",
   "nbconvert_exporter": "python",
   "pygments_lexer": "ipython3",
   "version": "3.9.7"
  }
 },
 "nbformat": 4,
 "nbformat_minor": 5
}
