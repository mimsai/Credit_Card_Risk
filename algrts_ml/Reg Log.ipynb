{
 "cells": [
  {
   "cell_type": "code",
   "execution_count": 1,
   "id": "b9f58e1c",
   "metadata": {},
   "outputs": [],
   "source": [
    "import pickle\n",
    "\n",
    "from sklearn.metrics      import accuracy_score, classification_report,confusion_matrix\n",
    "from sklearn.linear_model import LogisticRegression\n",
    "\n",
    "with open('credit.pkl', 'rb') as f:\n",
    "    X_cred_train, y_cred_train, X_cred_test, y_cred_teste = pickle.load(f)"
   ]
  },
  {
   "cell_type": "code",
   "execution_count": 2,
   "id": "12538c6e",
   "metadata": {},
   "outputs": [
    {
     "data": {
      "text/plain": [
       "LogisticRegression(random_state=1)"
      ]
     },
     "execution_count": 2,
     "metadata": {},
     "output_type": "execute_result"
    }
   ],
   "source": [
    "logistic_credit = LogisticRegression(random_state=1)\n",
    "logistic_credit.fit(X_cred_train, y_cred_train)"
   ]
  },
  {
   "cell_type": "code",
   "execution_count": 3,
   "id": "dbc12b44",
   "metadata": {},
   "outputs": [],
   "source": [
    "prev = logistic_credit.predict(X_cred_test)"
   ]
  },
  {
   "cell_type": "code",
   "execution_count": 4,
   "id": "00988a39",
   "metadata": {},
   "outputs": [
    {
     "data": {
      "text/plain": [
       "0.8474639022584228"
      ]
     },
     "execution_count": 4,
     "metadata": {},
     "output_type": "execute_result"
    }
   ],
   "source": [
    "accuracy_score(y_cred_teste, prev)"
   ]
  },
  {
   "cell_type": "code",
   "execution_count": 5,
   "id": "4be54f8d",
   "metadata": {},
   "outputs": [
    {
     "name": "stdout",
     "output_type": "stream",
     "text": [
      "              precision    recall  f1-score   support\n",
      "\n",
      "           0       0.87      0.95      0.91      6331\n",
      "           1       0.73      0.48      0.58      1772\n",
      "\n",
      "    accuracy                           0.85      8103\n",
      "   macro avg       0.80      0.72      0.74      8103\n",
      "weighted avg       0.84      0.85      0.84      8103\n",
      "\n"
     ]
    }
   ],
   "source": [
    "print(classification_report(y_cred_teste, prev))"
   ]
  },
  {
   "cell_type": "code",
   "execution_count": 6,
   "id": "e4770c8e",
   "metadata": {},
   "outputs": [
    {
     "data": {
      "text/plain": [
       "array([[6012,  319],\n",
       "       [ 917,  855]], dtype=int64)"
      ]
     },
     "execution_count": 6,
     "metadata": {},
     "output_type": "execute_result"
    }
   ],
   "source": [
    "confusion_matrix(y_cred_teste, prev)"
   ]
  }
 ],
 "metadata": {
  "kernelspec": {
   "display_name": "Python 3 (ipykernel)",
   "language": "python",
   "name": "python3"
  },
  "language_info": {
   "codemirror_mode": {
    "name": "ipython",
    "version": 3
   },
   "file_extension": ".py",
   "mimetype": "text/x-python",
   "name": "python",
   "nbconvert_exporter": "python",
   "pygments_lexer": "ipython3",
   "version": "3.9.7"
  }
 },
 "nbformat": 4,
 "nbformat_minor": 5
}
