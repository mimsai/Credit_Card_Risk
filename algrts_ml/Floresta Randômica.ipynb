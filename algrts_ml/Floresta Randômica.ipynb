{
 "cells": [
  {
   "cell_type": "code",
   "execution_count": 1,
   "id": "a277c051",
   "metadata": {
    "ExecuteTime": {
     "end_time": "2021-12-16T13:35:53.622899Z",
     "start_time": "2021-12-16T13:35:52.500519Z"
    }
   },
   "outputs": [],
   "source": [
    "import pickle\n",
    "\n",
    "from sklearn.ensemble import RandomForestClassifier\n",
    "from sklearn.metrics  import accuracy_score, confusion_matrix, classification_report\n",
    "\n",
    "with open('credit.pkl', 'rb') as f:\n",
    "    X_cred_train, y_cred_train, X_cred_test, y_cred_teste = pickle.load(f)"
   ]
  },
  {
   "cell_type": "code",
   "execution_count": 2,
   "id": "e4217882",
   "metadata": {
    "ExecuteTime": {
     "end_time": "2021-12-16T13:35:55.070450Z",
     "start_time": "2021-12-16T13:35:53.629854Z"
    }
   },
   "outputs": [
    {
     "data": {
      "text/plain": [
       "RandomForestClassifier(criterion='entropy', n_estimators=40, random_state=0)"
      ]
     },
     "execution_count": 2,
     "metadata": {},
     "output_type": "execute_result"
    }
   ],
   "source": [
    "random_forest_credit = RandomForestClassifier(n_estimators=40, criterion='entropy', random_state = 0)\n",
    "random_forest_credit.fit(X_cred_train, y_cred_train)"
   ]
  },
  {
   "cell_type": "code",
   "execution_count": 3,
   "id": "a99d1b95",
   "metadata": {
    "ExecuteTime": {
     "end_time": "2021-12-16T13:35:55.085630Z",
     "start_time": "2021-12-16T13:35:55.074443Z"
    }
   },
   "outputs": [
    {
     "data": {
      "text/plain": [
       "(24306, 11)"
      ]
     },
     "execution_count": 3,
     "metadata": {},
     "output_type": "execute_result"
    }
   ],
   "source": [
    "X_cred_train.shape"
   ]
  },
  {
   "cell_type": "code",
   "execution_count": 4,
   "id": "ad6a2031",
   "metadata": {
    "ExecuteTime": {
     "end_time": "2021-12-16T13:35:55.253248Z",
     "start_time": "2021-12-16T13:35:55.090112Z"
    }
   },
   "outputs": [],
   "source": [
    "prev = random_forest_credit.predict(X_cred_test)"
   ]
  },
  {
   "cell_type": "code",
   "execution_count": 5,
   "id": "39a706c0",
   "metadata": {
    "ExecuteTime": {
     "end_time": "2021-12-16T13:35:55.501869Z",
     "start_time": "2021-12-16T13:35:55.492486Z"
    }
   },
   "outputs": [
    {
     "data": {
      "text/plain": [
       "0.9317536714796989"
      ]
     },
     "execution_count": 5,
     "metadata": {},
     "output_type": "execute_result"
    }
   ],
   "source": [
    "accuracy_score(y_cred_teste, prev)"
   ]
  },
  {
   "cell_type": "code",
   "execution_count": 6,
   "id": "f0668bbd",
   "metadata": {
    "ExecuteTime": {
     "end_time": "2021-12-16T13:35:56.019194Z",
     "start_time": "2021-12-16T13:35:55.993285Z"
    }
   },
   "outputs": [
    {
     "data": {
      "text/plain": [
       "array([[6284,   47],\n",
       "       [ 506, 1266]], dtype=int64)"
      ]
     },
     "execution_count": 6,
     "metadata": {},
     "output_type": "execute_result"
    }
   ],
   "source": [
    "confusion_matrix(y_cred_teste, prev)"
   ]
  },
  {
   "cell_type": "code",
   "execution_count": 8,
   "id": "0de5464c",
   "metadata": {
    "ExecuteTime": {
     "end_time": "2021-12-16T13:35:56.997717Z",
     "start_time": "2021-12-16T13:35:56.969810Z"
    }
   },
   "outputs": [
    {
     "name": "stdout",
     "output_type": "stream",
     "text": [
      "              precision    recall  f1-score   support\n",
      "\n",
      "           0       0.93      0.99      0.96      6331\n",
      "           1       0.96      0.71      0.82      1772\n",
      "\n",
      "    accuracy                           0.93      8103\n",
      "   macro avg       0.94      0.85      0.89      8103\n",
      "weighted avg       0.93      0.93      0.93      8103\n",
      "\n"
     ]
    }
   ],
   "source": [
    "print(classification_report(y_cred_teste, prev))"
   ]
  }
 ],
 "metadata": {
  "kernelspec": {
   "display_name": "Python 3 (ipykernel)",
   "language": "python",
   "name": "python3"
  },
  "language_info": {
   "codemirror_mode": {
    "name": "ipython",
    "version": 3
   },
   "file_extension": ".py",
   "mimetype": "text/x-python",
   "name": "python",
   "nbconvert_exporter": "python",
   "pygments_lexer": "ipython3",
   "version": "3.9.7"
  }
 },
 "nbformat": 4,
 "nbformat_minor": 5
}
