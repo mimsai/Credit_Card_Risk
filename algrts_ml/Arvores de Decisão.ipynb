{
 "cells": [
  {
   "cell_type": "code",
   "execution_count": 5,
   "id": "94810284",
   "metadata": {
    "ExecuteTime": {
     "end_time": "2021-12-16T13:34:48.116291Z",
     "start_time": "2021-12-16T13:34:48.110572Z"
    }
   },
   "outputs": [],
   "source": [
    "import pickle\n",
    "from sklearn.tree    import DecisionTreeClassifier\n",
    "from sklearn.metrics import accuracy_score, classification_report,confusion_matrix"
   ]
  },
  {
   "cell_type": "code",
   "execution_count": 6,
   "id": "a9f770f9",
   "metadata": {
    "ExecuteTime": {
     "end_time": "2021-12-16T13:34:48.948026Z",
     "start_time": "2021-12-16T13:34:48.926546Z"
    }
   },
   "outputs": [],
   "source": [
    "with open('credit.pkl', 'rb') as f:\n",
    "    X_cred_train, y_cred_train, X_cred_test, y_cred_teste = pickle.load(f)"
   ]
  },
  {
   "cell_type": "code",
   "execution_count": 7,
   "id": "70809530",
   "metadata": {
    "ExecuteTime": {
     "end_time": "2021-12-16T13:34:49.793949Z",
     "start_time": "2021-12-16T13:34:49.546569Z"
    }
   },
   "outputs": [
    {
     "data": {
      "text/plain": [
       "DecisionTreeClassifier(criterion='entropy', random_state=0)"
      ]
     },
     "execution_count": 7,
     "metadata": {},
     "output_type": "execute_result"
    }
   ],
   "source": [
    "arvore_credit = DecisionTreeClassifier(criterion='entropy', random_state = 0)\n",
    "arvore_credit.fit(X_cred_train, y_cred_train)"
   ]
  },
  {
   "cell_type": "code",
   "execution_count": 8,
   "id": "62e2980b",
   "metadata": {
    "ExecuteTime": {
     "end_time": "2021-12-16T13:34:50.503372Z",
     "start_time": "2021-12-16T13:34:50.469921Z"
    }
   },
   "outputs": [],
   "source": [
    "prev = arvore_credit.predict(X_cred_test)"
   ]
  },
  {
   "cell_type": "code",
   "execution_count": 9,
   "id": "48fbe540",
   "metadata": {
    "ExecuteTime": {
     "end_time": "2021-12-16T13:34:51.464057Z",
     "start_time": "2021-12-16T13:34:51.455248Z"
    },
    "scrolled": true
   },
   "outputs": [
    {
     "data": {
      "text/plain": [
       "0.888066148340121"
      ]
     },
     "execution_count": 9,
     "metadata": {},
     "output_type": "execute_result"
    }
   ],
   "source": [
    "accuracy_score(y_cred_teste, prev)"
   ]
  },
  {
   "cell_type": "code",
   "execution_count": 10,
   "id": "075f9ee5",
   "metadata": {
    "ExecuteTime": {
     "end_time": "2021-12-16T13:34:52.944839Z",
     "start_time": "2021-12-16T13:34:52.922539Z"
    }
   },
   "outputs": [
    {
     "data": {
      "text/plain": [
       "array([[5858,  473],\n",
       "       [ 434, 1338]], dtype=int64)"
      ]
     },
     "execution_count": 10,
     "metadata": {},
     "output_type": "execute_result"
    }
   ],
   "source": [
    "confusion_matrix(y_cred_teste, prev)"
   ]
  },
  {
   "cell_type": "code",
   "execution_count": 11,
   "id": "e8812f59",
   "metadata": {
    "ExecuteTime": {
     "end_time": "2021-12-16T13:34:56.033250Z",
     "start_time": "2021-12-16T13:34:55.983877Z"
    },
    "scrolled": true
   },
   "outputs": [
    {
     "name": "stdout",
     "output_type": "stream",
     "text": [
      "              precision    recall  f1-score   support\n",
      "\n",
      "           0       0.93      0.93      0.93      6331\n",
      "           1       0.74      0.76      0.75      1772\n",
      "\n",
      "    accuracy                           0.89      8103\n",
      "   macro avg       0.83      0.84      0.84      8103\n",
      "weighted avg       0.89      0.89      0.89      8103\n",
      "\n"
     ]
    }
   ],
   "source": [
    "print(classification_report(y_cred_teste, prev))"
   ]
  },
  {
   "cell_type": "code",
   "execution_count": 15,
   "id": "7d29d979",
   "metadata": {
    "ExecuteTime": {
     "end_time": "2021-12-16T14:05:12.660109Z",
     "start_time": "2021-12-16T14:05:12.653479Z"
    }
   },
   "outputs": [
    {
     "data": {
      "text/plain": [
       "'C:\\\\Users\\\\marin\\\\reposit\\\\Credit_Card_Risk\\\\Algrts de ML'"
      ]
     },
     "execution_count": 15,
     "metadata": {},
     "output_type": "execute_result"
    }
   ],
   "source": [
    "pwd"
   ]
  },
  {
   "cell_type": "code",
   "execution_count": null,
   "id": "39899d70",
   "metadata": {},
   "outputs": [],
   "source": [
    "pickle.dump( open ('C:/Users/marin/reposit/Credit_Card_Risk/Algrts de ML', 'wb'))"
   ]
  }
 ],
 "metadata": {
  "kernelspec": {
   "display_name": "Python 3 (ipykernel)",
   "language": "python",
   "name": "python3"
  },
  "language_info": {
   "codemirror_mode": {
    "name": "ipython",
    "version": 3
   },
   "file_extension": ".py",
   "mimetype": "text/x-python",
   "name": "python",
   "nbconvert_exporter": "python",
   "pygments_lexer": "ipython3",
   "version": "3.9.7"
  }
 },
 "nbformat": 4,
 "nbformat_minor": 5
}
